{
  "nbformat": 4,
  "nbformat_minor": 0,
  "metadata": {
    "colab": {
      "name": "Untitled8.ipynb",
      "provenance": [],
      "authorship_tag": "ABX9TyMek41uEjmGB+nZq9VdRyIV",
      "include_colab_link": true
    },
    "kernelspec": {
      "name": "python3",
      "display_name": "Python 3"
    }
  },
  "cells": [
    {
      "cell_type": "markdown",
      "metadata": {
        "id": "view-in-github",
        "colab_type": "text"
      },
      "source": [
        "<a href=\"https://colab.research.google.com/github/2016130714/class2021Spring/blob/main/20210317.ipynb\" target=\"_parent\"><img src=\"https://colab.research.google.com/assets/colab-badge.svg\" alt=\"Open In Colab\"/></a>"
      ]
    },
    {
      "cell_type": "code",
      "metadata": {
        "colab": {
          "base_uri": "https://localhost:8080/"
        },
        "id": "Z5PSmXcLuW6t",
        "outputId": "cd883497-1ce9-4b4b-c1fd-0407179a91a3"
      },
      "source": [
        "for i in range(0, 3):\r\n",
        "  for j in range(8, 10):  \r\n",
        "          if i*j % 2 == 0:\r\n",
        "                print(i/j)"
      ],
      "execution_count": 1,
      "outputs": [
        {
          "output_type": "stream",
          "text": [
            "0.0\n",
            "0.0\n",
            "0.125\n",
            "0.25\n",
            "0.2222222222222222\n"
          ],
          "name": "stdout"
        }
      ]
    },
    {
      "cell_type": "code",
      "metadata": {
        "colab": {
          "base_uri": "https://localhost:8080/"
        },
        "id": "5Pnr5axev89-",
        "outputId": "0be15bfa-3808-4ccb-8cd0-326435d643a9"
      },
      "source": [
        "a = [1, 2, 3, 4];\r\n",
        "x = ['안녕하세요', 'hello', 'python', 'red']\r\n",
        "b = [i for i in a if i >= 2]\r\n",
        "c = [i*2 for i in x if len(i) >= 4]\r\n",
        "b+c"
      ],
      "execution_count": 2,
      "outputs": [
        {
          "output_type": "execute_result",
          "data": {
            "text/plain": [
              "[2, 3, 4, '안녕하세요안녕하세요', 'hellohello', 'pythonpython']"
            ]
          },
          "metadata": {
            "tags": []
          },
          "execution_count": 2
        }
      ]
    },
    {
      "cell_type": "code",
      "metadata": {
        "id": "L86fDKqCwA00"
      },
      "source": [
        ""
      ],
      "execution_count": null,
      "outputs": []
    }
  ]
}