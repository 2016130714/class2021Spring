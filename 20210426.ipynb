{
  "nbformat": 4,
  "nbformat_minor": 0,
  "metadata": {
    "colab": {
      "name": "Untitled2.ipynb",
      "provenance": [],
      "authorship_tag": "ABX9TyP8pArB7x/C5LCSSVowPMCN",
      "include_colab_link": true
    },
    "kernelspec": {
      "name": "python3",
      "display_name": "Python 3"
    },
    "language_info": {
      "name": "python"
    }
  },
  "cells": [
    {
      "cell_type": "markdown",
      "metadata": {
        "id": "view-in-github",
        "colab_type": "text"
      },
      "source": [
        "<a href=\"https://colab.research.google.com/github/2016130714/class2021Spring/blob/main/20210426.ipynb\" target=\"_parent\"><img src=\"https://colab.research.google.com/assets/colab-badge.svg\" alt=\"Open In Colab\"/></a>"
      ]
    },
    {
      "cell_type": "code",
      "metadata": {
        "id": "1SuxNRRaxrMs"
      },
      "source": [
        "import numpy as np\n",
        "from matplotlib import pyplot as plt"
      ],
      "execution_count": 6,
      "outputs": []
    },
    {
      "cell_type": "code",
      "metadata": {
        "id": "3eZjsAVIxucR"
      },
      "source": [
        "def phasor(amp, sr, dur, freq):\n",
        "  t = np.arange(1, sr * dur+1)/sr\n",
        "  theta = t * 2*np.pi *freq\n",
        "  s = np.sin(theta)\n",
        "  return s, theta, t"
      ],
      "execution_count": 7,
      "outputs": []
    },
    {
      "cell_type": "code",
      "metadata": {
        "colab": {
          "base_uri": "https://localhost:8080/"
        },
        "id": "Hlev6RYgyPof",
        "outputId": "f92818ad-feeb-46bf-e1fd-20afa1a1e9ce"
      },
      "source": [
        "phasor(1, 10000, 0.5, 100.0)"
      ],
      "execution_count": 8,
      "outputs": [
        {
          "output_type": "execute_result",
          "data": {
            "text/plain": [
              "(array([ 6.27905195e-02,  1.25333234e-01,  1.87381315e-01, ...,\n",
              "        -1.25333234e-01, -6.27905195e-02,  1.96438672e-15]),\n",
              " array([6.28318531e-02, 1.25663706e-01, 1.88495559e-01, ...,\n",
              "        3.14033602e+02, 3.14096434e+02, 3.14159265e+02]),\n",
              " array([1.000e-04, 2.000e-04, 3.000e-04, ..., 4.998e-01, 4.999e-01,\n",
              "        5.000e-01]))"
            ]
          },
          "metadata": {
            "tags": []
          },
          "execution_count": 8
        }
      ]
    },
    {
      "cell_type": "code",
      "metadata": {
        "id": "4UWnTzz_yhsu"
      },
      "source": [
        ""
      ],
      "execution_count": 9,
      "outputs": []
    }
  ]
}