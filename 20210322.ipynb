{
  "nbformat": 4,
  "nbformat_minor": 0,
  "metadata": {
    "colab": {
      "name": "Untitled10.ipynb",
      "provenance": [],
      "authorship_tag": "ABX9TyNKYJ/3Mjf84T7aLlqHZa7b",
      "include_colab_link": true
    },
    "kernelspec": {
      "name": "python3",
      "display_name": "Python 3"
    },
    "language_info": {
      "name": "python"
    }
  },
  "cells": [
    {
      "cell_type": "markdown",
      "metadata": {
        "id": "view-in-github",
        "colab_type": "text"
      },
      "source": [
        "<a href=\"https://colab.research.google.com/github/2016130714/class2021Spring/blob/main/20210322.ipynb\" target=\"_parent\"><img src=\"https://colab.research.google.com/assets/colab-badge.svg\" alt=\"Open In Colab\"/></a>"
      ]
    },
    {
      "cell_type": "code",
      "metadata": {
        "id": "4yAwDfDZUCFt"
      },
      "source": [
        "def add(a, b):\n",
        "  return a+b\n",
        "\n",
        "def func1(x, a, b):\n",
        "  y = a*x + b\n",
        "  return y\n",
        "\n",
        "def func2(a, b):\n",
        "  return 2*a, 3*a, b**3\n",
        "\n",
        "def func3(x, a, b, c):\n",
        "  y = a*x**2 + b*x + c\n",
        "  return y"
      ],
      "execution_count": 23,
      "outputs": []
    },
    {
      "cell_type": "code",
      "metadata": {
        "colab": {
          "base_uri": "https://localhost:8080/"
        },
        "id": "kJTGzkq8UaTU",
        "outputId": "ce787d51-346e-4dea-cd27-d85acab0f95a"
      },
      "source": [
        "c = add(1, 2); print(c)\n",
        "c = func1(4, 5, 6); print(c)\n",
        "c = func2(10, 12); print(c)\n",
        "c = func3(2, 6, 3, 4); print(c)"
      ],
      "execution_count": 24,
      "outputs": [
        {
          "output_type": "stream",
          "text": [
            "3\n",
            "26\n",
            "(20, 30, 1728)\n",
            "34\n"
          ],
          "name": "stdout"
        }
      ]
    },
    {
      "cell_type": "code",
      "metadata": {
        "id": "pi_JAWZEUdcz"
      },
      "source": [
        ""
      ],
      "execution_count": null,
      "outputs": []
    }
  ]
}