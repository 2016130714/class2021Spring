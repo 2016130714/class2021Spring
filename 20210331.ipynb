{
  "nbformat": 4,
  "nbformat_minor": 0,
  "metadata": {
    "colab": {
      "name": "Untitled2.ipynb",
      "provenance": [],
      "authorship_tag": "ABX9TyPPz5+JtPemhK0H0LGYhEQ6",
      "include_colab_link": true
    },
    "kernelspec": {
      "name": "python3",
      "display_name": "Python 3"
    },
    "language_info": {
      "name": "python"
    }
  },
  "cells": [
    {
      "cell_type": "markdown",
      "metadata": {
        "id": "view-in-github",
        "colab_type": "text"
      },
      "source": [
        "<a href=\"https://colab.research.google.com/github/2016130714/class2021Spring/blob/main/20210331.ipynb\" target=\"_parent\"><img src=\"https://colab.research.google.com/assets/colab-badge.svg\" alt=\"Open In Colab\"/></a>"
      ]
    },
    {
      "cell_type": "code",
      "metadata": {
        "id": "s1VCdtQH4X6J"
      },
      "source": [
        ""
      ],
      "execution_count": null,
      "outputs": []
    },
    {
      "cell_type": "markdown",
      "metadata": {
        "id": "Wg4OsZug4cN5"
      },
      "source": [
        "#아: pitch: 117.2Hz  intensity: 70.56dB  \n",
        "  #formant: 1st: 635.6Hz       2nd: 1208Hz\n",
        "#에: pitch: 121.4Hz  intensity: 72.53dB\n",
        "  #formant: 1st: 508.4Hz       2nd: 1717Hz"
      ]
    }
  ]
}