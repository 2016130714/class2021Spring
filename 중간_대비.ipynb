{
  "nbformat": 4,
  "nbformat_minor": 0,
  "metadata": {
    "colab": {
      "name": "중간 대비.ipynb",
      "provenance": [],
      "authorship_tag": "ABX9TyNWa5BMOjDjkJLi9u8L5qvo",
      "include_colab_link": true
    },
    "kernelspec": {
      "name": "python3",
      "display_name": "Python 3"
    },
    "language_info": {
      "name": "python"
    }
  },
  "cells": [
    {
      "cell_type": "markdown",
      "metadata": {
        "id": "view-in-github",
        "colab_type": "text"
      },
      "source": [
        "<a href=\"https://colab.research.google.com/github/2016130714/class2021Spring/blob/main/%EC%A4%91%EA%B0%84_%EB%8C%80%EB%B9%84.ipynb\" target=\"_parent\"><img src=\"https://colab.research.google.com/assets/colab-badge.svg\" alt=\"Open In Colab\"/></a>"
      ]
    },
    {
      "cell_type": "code",
      "metadata": {
        "colab": {
          "base_uri": "https://localhost:8080/"
        },
        "id": "Tlc33m5yzXYf",
        "outputId": "337b5d11-d55f-4173-cddf-e2d490cada07"
      },
      "source": [
        "a = 1; a = float(a); print(type(a)); print(a)\n",
        "b = 1.2; print(int(b))"
      ],
      "execution_count": 1,
      "outputs": [
        {
          "output_type": "stream",
          "text": [
            "<class 'float'>\n",
            "1.0\n",
            "1\n"
          ],
          "name": "stdout"
        }
      ]
    },
    {
      "cell_type": "code",
      "metadata": {
        "colab": {
          "base_uri": "https://localhost:8080/"
        },
        "id": "NDtte-6c0lV8",
        "outputId": "dda9c9c6-55c7-45ac-83d2-d26e5bdad120"
      },
      "source": [
        "a = [5, '2', [3, '41']]; print(a[2], a[2][1][1])"
      ],
      "execution_count": 3,
      "outputs": [
        {
          "output_type": "stream",
          "text": [
            "[3, '41'] 1\n"
          ],
          "name": "stdout"
        }
      ]
    },
    {
      "cell_type": "code",
      "metadata": {
        "colab": {
          "base_uri": "https://localhost:8080/"
        },
        "id": "tmK9dZjx1U5y",
        "outputId": "bbd19c83-675f-462a-b8b7-719402c7f855"
      },
      "source": [
        "a = [1, 2, 3]; a[-1] = 1; a"
      ],
      "execution_count": 8,
      "outputs": [
        {
          "output_type": "execute_result",
          "data": {
            "text/plain": [
              "[1, 2, 1]"
            ]
          },
          "metadata": {
            "tags": []
          },
          "execution_count": 8
        }
      ]
    },
    {
      "cell_type": "code",
      "metadata": {
        "colab": {
          "base_uri": "https://localhost:8080/",
          "height": 168
        },
        "id": "lgSkBNfb1nK6",
        "outputId": "68ff1196-5b86-4e24-a85a-3d579026f0bf"
      },
      "source": [
        "b = (1, 2, 3); b[0] = -1; b       #튜플은 자료를 바꿀 수 없다. 보안이 강하다."
      ],
      "execution_count": 9,
      "outputs": [
        {
          "output_type": "error",
          "ename": "TypeError",
          "evalue": "ignored",
          "traceback": [
            "\u001b[0;31m---------------------------------------------------------------------------\u001b[0m",
            "\u001b[0;31mTypeError\u001b[0m                                 Traceback (most recent call last)",
            "\u001b[0;32m<ipython-input-9-21d507f453a9>\u001b[0m in \u001b[0;36m<module>\u001b[0;34m()\u001b[0m\n\u001b[0;32m----> 1\u001b[0;31m \u001b[0mb\u001b[0m \u001b[0;34m=\u001b[0m \u001b[0;34m(\u001b[0m\u001b[0;36m1\u001b[0m\u001b[0;34m,\u001b[0m \u001b[0;36m2\u001b[0m\u001b[0;34m,\u001b[0m \u001b[0;36m3\u001b[0m\u001b[0;34m)\u001b[0m\u001b[0;34m;\u001b[0m \u001b[0mb\u001b[0m\u001b[0;34m[\u001b[0m\u001b[0;36m0\u001b[0m\u001b[0;34m]\u001b[0m \u001b[0;34m=\u001b[0m \u001b[0;34m-\u001b[0m\u001b[0;36m1\u001b[0m\u001b[0;34m;\u001b[0m \u001b[0mb\u001b[0m\u001b[0;34m\u001b[0m\u001b[0;34m\u001b[0m\u001b[0m\n\u001b[0m",
            "\u001b[0;31mTypeError\u001b[0m: 'tuple' object does not support item assignment"
          ]
        }
      ]
    },
    {
      "cell_type": "code",
      "metadata": {
        "colab": {
          "base_uri": "https://localhost:8080/"
        },
        "id": "-XZ7JT1L15mH",
        "outputId": "a2b642a7-6f76-4f75-f763-4c321c43da1c"
      },
      "source": [
        "a = {'a' : 'apple', 'b' : 'banana', 'c': 2014}; a['c'] = 2021; print(a['b'], a)\n",
        "#딕셔너리에서 key를 인덱싱하면 value를 출력, "
      ],
      "execution_count": 10,
      "outputs": [
        {
          "output_type": "stream",
          "text": [
            "banana {'a': 'apple', 'b': 'banana', 'c': 2021}\n"
          ],
          "name": "stdout"
        }
      ]
    },
    {
      "cell_type": "code",
      "metadata": {
        "colab": {
          "base_uri": "https://localhost:8080/",
          "height": 168
        },
        "id": "e1AC-nku2tQy",
        "outputId": "5b24a3a7-8265-4162-a0e4-ae0612e31e68"
      },
      "source": [
        "a[0] #딕셔너리는 순서가 없어 인덱스 불가"
      ],
      "execution_count": 11,
      "outputs": [
        {
          "output_type": "error",
          "ename": "KeyError",
          "evalue": "ignored",
          "traceback": [
            "\u001b[0;31m---------------------------------------------------------------------------\u001b[0m",
            "\u001b[0;31mKeyError\u001b[0m                                  Traceback (most recent call last)",
            "\u001b[0;32m<ipython-input-11-6a1284577a36>\u001b[0m in \u001b[0;36m<module>\u001b[0;34m()\u001b[0m\n\u001b[0;32m----> 1\u001b[0;31m \u001b[0ma\u001b[0m\u001b[0;34m[\u001b[0m\u001b[0;36m0\u001b[0m\u001b[0;34m]\u001b[0m\u001b[0;34m\u001b[0m\u001b[0;34m\u001b[0m\u001b[0m\n\u001b[0m",
            "\u001b[0;31mKeyError\u001b[0m: 0"
          ]
        }
      ]
    },
    {
      "cell_type": "code",
      "metadata": {
        "colab": {
          "base_uri": "https://localhost:8080/"
        },
        "id": "ExZf1xj62yDz",
        "outputId": "fe04a1c1-31f4-4820-f24d-742e733bdd14"
      },
      "source": [
        "s = 'abcdef'; a = [1, 2, 3]; print(s[-5], a[-3]) # 음수 인덱싱은 -1부터 시작\n",
        "print(s[1:3], a[1:], s[:-1])  #[a:b]에서 b - 1, a는 그대로로"
      ],
      "execution_count": 14,
      "outputs": [
        {
          "output_type": "stream",
          "text": [
            "b 1\n",
            "bc [2, 3] abcde\n"
          ],
          "name": "stdout"
        }
      ]
    },
    {
      "cell_type": "code",
      "metadata": {
        "colab": {
          "base_uri": "https://localhost:8080/",
          "height": 34
        },
        "id": "y-VXOLLf4Euc",
        "outputId": "5b15d9b7-735f-4717-c59d-6d557b7e8391"
      },
      "source": [
        "s[1] + s[3] + s[4:] * 3"
      ],
      "execution_count": 15,
      "outputs": [
        {
          "output_type": "execute_result",
          "data": {
            "application/vnd.google.colaboratory.intrinsic+json": {
              "type": "string"
            },
            "text/plain": [
              "'bdefefef'"
            ]
          },
          "metadata": {
            "tags": []
          },
          "execution_count": 15
        }
      ]
    },
    {
      "cell_type": "code",
      "metadata": {
        "colab": {
          "base_uri": "https://localhost:8080/"
        },
        "id": "uVd0MR8H6E05",
        "outputId": "15ef8dba-7872-457f-f9cb-93ed1db9d29e"
      },
      "source": [
        "s = \"\\nthis is a house this year.   \\t  \"\n",
        "result_1 = s.find('is')\n",
        "result_2 = s.find('that')  #find method에서 찾는 성분이 없을 경우, -1을 출력한다.\n",
        "result_3 = s.rindex('is')  #세 번의 is 중 가장 오른쪽의 is를 찾는다.\n",
        "print(result_1, result_2, result_3)"
      ],
      "execution_count": 38,
      "outputs": [
        {
          "output_type": "stream",
          "text": [
            "3 -1 19\n"
          ],
          "name": "stdout"
        }
      ]
    },
    {
      "cell_type": "code",
      "metadata": {
        "colab": {
          "base_uri": "https://localhost:8080/",
          "height": 34
        },
        "id": "2q9MhwHW6wH8",
        "outputId": "68cc119a-6e6e-41b7-bd5f-4e0aeae93a4c"
      },
      "source": [
        "s = s.strip(); s    #양 끝의 공백, \\n 등만 제거"
      ],
      "execution_count": 36,
      "outputs": [
        {
          "output_type": "execute_result",
          "data": {
            "application/vnd.google.colaboratory.intrinsic+json": {
              "type": "string"
            },
            "text/plain": [
              "'this is a house this year.'"
            ]
          },
          "metadata": {
            "tags": []
          },
          "execution_count": 36
        }
      ]
    },
    {
      "cell_type": "code",
      "metadata": {
        "colab": {
          "base_uri": "https://localhost:8080/"
        },
        "id": "T6fetBvF8R8h",
        "outputId": "1769cb96-9494-41fe-a49a-c20523a1c66e"
      },
      "source": [
        "s = \"\\nthis is a house this year.   \\t  x\"\n",
        "s1 = s.split('.')  #split: ' ' 안의 문자를 지우고, 나눈다.\n",
        "s2 = s.split()\n",
        "s3 = s.split(' ')\n",
        "print(s1, s2, s3)"
      ],
      "execution_count": 46,
      "outputs": [
        {
          "output_type": "stream",
          "text": [
            "['\\nthis is a house this year', '   \\t  x'] ['this', 'is', 'a', 'house', 'this', 'year.', 'x'] ['\\nthis', 'is', 'a', 'house', 'this', 'year.', '', '', '\\t', '', 'x']\n"
          ],
          "name": "stdout"
        }
      ]
    },
    {
      "cell_type": "code",
      "metadata": {
        "colab": {
          "base_uri": "https://localhost:8080/"
        },
        "id": "SJJWN4tk84cJ",
        "outputId": "f2fa4886-789e-404f-d831-6106b900247d"
      },
      "source": [
        "print(''.join(s3), ' '.join(s3), '**'.join(s3))"
      ],
      "execution_count": 48,
      "outputs": [
        {
          "output_type": "stream",
          "text": [
            "\n",
            "thisisahousethisyear.\tx \n",
            "this is a house this year.   \t  x \n",
            "this**is**a**house**this**year.******\t****x\n"
          ],
          "name": "stdout"
        }
      ]
    },
    {
      "cell_type": "code",
      "metadata": {
        "colab": {
          "base_uri": "https://localhost:8080/"
        },
        "id": "ojq0Rcft-XlJ",
        "outputId": "d1366b1e-abe1-4735-cf14-e1d116cd0430"
      },
      "source": [
        "a = [1, 2, 3, 4, 5]\n",
        "for i in range(len(a)):\n",
        "  print(a[i])\n",
        "print('\\n')\n",
        "for i in range(-2, 4):     #range(-2, 4) = [-2, -1, 0, 1, 2, 3]\n",
        "  print(a[i])"
      ],
      "execution_count": 52,
      "outputs": [
        {
          "output_type": "stream",
          "text": [
            "1\n",
            "2\n",
            "3\n",
            "4\n",
            "5\n",
            "\n",
            "\n",
            "4\n",
            "5\n",
            "1\n",
            "2\n",
            "3\n",
            "4\n"
          ],
          "name": "stdout"
        }
      ]
    },
    {
      "cell_type": "code",
      "metadata": {
        "colab": {
          "base_uri": "https://localhost:8080/",
          "height": 273
        },
        "id": "Tf3j8ubzA-xo",
        "outputId": "634e4ecd-56a0-489b-eeeb-c97545e05982"
      },
      "source": [
        "for i in range(0, 6):\n",
        "  print(a[i])"
      ],
      "execution_count": 55,
      "outputs": [
        {
          "output_type": "stream",
          "text": [
            "1\n",
            "2\n",
            "3\n",
            "4\n",
            "5\n"
          ],
          "name": "stdout"
        },
        {
          "output_type": "error",
          "ename": "IndexError",
          "evalue": "ignored",
          "traceback": [
            "\u001b[0;31m---------------------------------------------------------------------------\u001b[0m",
            "\u001b[0;31mIndexError\u001b[0m                                Traceback (most recent call last)",
            "\u001b[0;32m<ipython-input-55-1d5d686767c0>\u001b[0m in \u001b[0;36m<module>\u001b[0;34m()\u001b[0m\n\u001b[1;32m      1\u001b[0m \u001b[0;32mfor\u001b[0m \u001b[0mi\u001b[0m \u001b[0;32min\u001b[0m \u001b[0mrange\u001b[0m\u001b[0;34m(\u001b[0m\u001b[0;36m0\u001b[0m\u001b[0;34m,\u001b[0m \u001b[0;36m6\u001b[0m\u001b[0;34m)\u001b[0m\u001b[0;34m:\u001b[0m\u001b[0;34m\u001b[0m\u001b[0;34m\u001b[0m\u001b[0m\n\u001b[0;32m----> 2\u001b[0;31m   \u001b[0mprint\u001b[0m\u001b[0;34m(\u001b[0m\u001b[0ma\u001b[0m\u001b[0;34m[\u001b[0m\u001b[0mi\u001b[0m\u001b[0;34m]\u001b[0m\u001b[0;34m)\u001b[0m\u001b[0;34m\u001b[0m\u001b[0;34m\u001b[0m\u001b[0m\n\u001b[0m",
            "\u001b[0;31mIndexError\u001b[0m: list index out of range"
          ]
        }
      ]
    },
    {
      "cell_type": "code",
      "metadata": {
        "colab": {
          "base_uri": "https://localhost:8080/"
        },
        "id": "A3n9-qNWBqLE",
        "outputId": "9472b9d6-594f-4efa-ddcd-2b98aa60b5ac"
      },
      "source": [
        "print(list(range(0, 10, 4)), list(range(-9, -1, 3)))"
      ],
      "execution_count": 56,
      "outputs": [
        {
          "output_type": "stream",
          "text": [
            "[0, 4, 8] [-9, -6, -3]\n"
          ],
          "name": "stdout"
        }
      ]
    },
    {
      "cell_type": "code",
      "metadata": {
        "colab": {
          "base_uri": "https://localhost:8080/"
        },
        "id": "x0h7y0zBCBKl",
        "outputId": "88b6e467-1051-4a22-c849-9f565737841f"
      },
      "source": [
        "for i in range(0, 3):\n",
        "  for j in range(3, 5):\n",
        "    print(i*j)"
      ],
      "execution_count": 57,
      "outputs": [
        {
          "output_type": "stream",
          "text": [
            "0\n",
            "0\n",
            "3\n",
            "4\n",
            "6\n",
            "8\n"
          ],
          "name": "stdout"
        }
      ]
    },
    {
      "cell_type": "code",
      "metadata": {
        "colab": {
          "base_uri": "https://localhost:8080/"
        },
        "id": "e6GSA0CSDIZt",
        "outputId": "6fadc1f6-6b94-45ff-9c96-5ca39dede46a"
      },
      "source": [
        "a = [1, 2, 3, 4]\n",
        "x = ['안녕하세요', 'hello', 'python', 'red']\n",
        "b = [i for i in a if i >= 2]\n",
        "c= [2*i for i in x if len(i) > 3]\n",
        "b+c"
      ],
      "execution_count": 61,
      "outputs": [
        {
          "output_type": "execute_result",
          "data": {
            "text/plain": [
              "[2, 3, 4, '안녕하세요안녕하세요', 'hellohello', 'pythonpython']"
            ]
          },
          "metadata": {
            "tags": []
          },
          "execution_count": 61
        }
      ]
    },
    {
      "cell_type": "code",
      "metadata": {
        "id": "cyhBiFfREQJn"
      },
      "source": [
        "class cal:  #class: 함수와 변수를 같이 정의\n",
        "  def __init__(self):\n",
        "    self.result = 1     #시작 값을 1로 정의\n",
        "  def add(self, n):\n",
        "    self.result += n\n",
        "    return self.result"
      ],
      "execution_count": 69,
      "outputs": []
    },
    {
      "cell_type": "code",
      "metadata": {
        "colab": {
          "base_uri": "https://localhost:8080/"
        },
        "id": "B2Tc0szyOTt2",
        "outputId": "ac451904-a79f-4f3f-9eb2-da2addd60d40"
      },
      "source": [
        "cal().result"
      ],
      "execution_count": 70,
      "outputs": [
        {
          "output_type": "execute_result",
          "data": {
            "text/plain": [
              "1"
            ]
          },
          "metadata": {
            "tags": []
          },
          "execution_count": 70
        }
      ]
    },
    {
      "cell_type": "code",
      "metadata": {
        "colab": {
          "base_uri": "https://localhost:8080/"
        },
        "id": "3aZ_El5YOhju",
        "outputId": "14a174b2-b652-43db-8121-90f3d3c48285"
      },
      "source": [
        "A = cal()\n",
        "A.add(4)   # 시작값 1에 4를 더함"
      ],
      "execution_count": 71,
      "outputs": [
        {
          "output_type": "execute_result",
          "data": {
            "text/plain": [
              "5"
            ]
          },
          "metadata": {
            "tags": []
          },
          "execution_count": 71
        }
      ]
    },
    {
      "cell_type": "code",
      "metadata": {
        "colab": {
          "base_uri": "https://localhost:8080/"
        },
        "id": "HAnGzlwWOsZf",
        "outputId": "53c51c93-1cd7-4cb8-c0e7-06705f10409f"
      },
      "source": [
        "A.add(6)"
      ],
      "execution_count": 72,
      "outputs": [
        {
          "output_type": "execute_result",
          "data": {
            "text/plain": [
              "11"
            ]
          },
          "metadata": {
            "tags": []
          },
          "execution_count": 72
        }
      ]
    },
    {
      "cell_type": "code",
      "metadata": {
        "colab": {
          "base_uri": "https://localhost:8080/"
        },
        "id": "N0Vs9mk1Ovwp",
        "outputId": "5ef7bf18-c5cb-4376-8e72-2b73ceb86f00"
      },
      "source": [
        "#모듈: 함수, 변수, 클래스를 모아놓은 파일\n",
        "#패키지: 모듈보다 상위 개념. 여러 모듈을 모아놓은 파일\n",
        "import numpy as np\n",
        "n = np.random.random(10); n     #0에서 1사이의 랜덤한 숫자 10개 생성"
      ],
      "execution_count": 78,
      "outputs": [
        {
          "output_type": "execute_result",
          "data": {
            "text/plain": [
              "array([0.6252856 , 0.77340071, 0.39341823, 0.84866731, 0.45695524,\n",
              "       0.04443731, 0.30382729, 0.49646677, 0.4258111 , 0.1775402 ])"
            ]
          },
          "metadata": {
            "tags": []
          },
          "execution_count": 78
        }
      ]
    },
    {
      "cell_type": "code",
      "metadata": {
        "colab": {
          "base_uri": "https://localhost:8080/",
          "height": 352
        },
        "id": "DN76-JP7QmYh",
        "outputId": "4bfd07a0-29c4-46ec-d6ce-d27333142bcf"
      },
      "source": [
        "import matplotlib.pyplot\n",
        "from matplotlib import pyplot\n",
        "from matplotlib.pyplot import hist\n",
        "hist(n)"
      ],
      "execution_count": 79,
      "outputs": [
        {
          "output_type": "execute_result",
          "data": {
            "text/plain": [
              "(array([1., 1., 0., 1., 2., 2., 0., 1., 0., 2.]),\n",
              " array([0.04443731, 0.12486031, 0.20528331, 0.28570631, 0.36612931,\n",
              "        0.44655231, 0.52697531, 0.60739831, 0.68782131, 0.76824431,\n",
              "        0.84866731]),\n",
              " <a list of 10 Patch objects>)"
            ]
          },
          "metadata": {
            "tags": []
          },
          "execution_count": 79
        },
        {
          "output_type": "display_data",
          "data": {
            "image/png": "[encoded data removed]",
            "text/plain": [
              "<Figure size 432x288 with 1 Axes>"
            ]
          },
          "metadata": {
            "tags": [],
            "needs_background": "light"
          }
        }
      ]
    },
    {
      "cell_type": "code",
      "metadata": {
        "id": "AhiF014HRNSr"
      },
      "source": [
        "import numpy as np\n",
        "import matplotlib.pyplot as plt"
      ],
      "execution_count": 80,
      "outputs": []
    },
    {
      "cell_type": "code",
      "metadata": {
        "colab": {
          "base_uri": "https://localhost:8080/"
        },
        "id": "4RO1J_19S2cw",
        "outputId": "021f1335-834c-41b1-eb07-70986f9eda87"
      },
      "source": [
        "np.empty([2, 3], dtype = int)"
      ],
      "execution_count": 106,
      "outputs": [
        {
          "output_type": "execute_result",
          "data": {
            "text/plain": [
              "array([[94464601712848,              0,              0],\n",
              "       [             0,              0,              0]])"
            ]
          },
          "metadata": {
            "tags": []
          },
          "execution_count": 106
        }
      ]
    },
    {
      "cell_type": "code",
      "metadata": {
        "colab": {
          "base_uri": "https://localhost:8080/"
        },
        "id": "3Ynkr7j9S5ho",
        "outputId": "aabed68b-a75b-4ae1-ad25-c2744df7a611"
      },
      "source": [
        "np.zeros([2, 3])"
      ],
      "execution_count": 107,
      "outputs": [
        {
          "output_type": "execute_result",
          "data": {
            "text/plain": [
              "array([[0., 0., 0.],\n",
              "       [0., 0., 0.]])"
            ]
          },
          "metadata": {
            "tags": []
          },
          "execution_count": 107
        }
      ]
    },
    {
      "cell_type": "code",
      "metadata": {
        "colab": {
          "base_uri": "https://localhost:8080/"
        },
        "id": "a-I2T_lQVJIk",
        "outputId": "95c52810-787a-4f05-c8e4-7a76fd25b377"
      },
      "source": [
        "a = np.arange(0, 5, 2, dtype = 'float')    #float을 붙여서 뒤에 소숫점이 붙는다.\n",
        "b = np.arange(0, 1, .1)       #range(0, 1, .1)은 불가능. numpy.arange(0, 1, .1)은 가능\n",
        "print(a, b)     "
      ],
      "execution_count": 152,
      "outputs": [
        {
          "output_type": "stream",
          "text": [
            "[0. 2. 4.] [0.  0.1 0.2 0.3 0.4 0.5 0.6 0.7 0.8 0.9]\n"
          ],
          "name": "stdout"
        }
      ]
    },
    {
      "cell_type": "code",
      "metadata": {
        "colab": {
          "base_uri": "https://localhost:8080/"
        },
        "id": "H75fJe3pVjwG",
        "outputId": "b544a209-19ef-4a7f-8ec9-230a688229d9"
      },
      "source": [
        "np.linspace(0, 10, 5)   #0부터 10 사이. 등간격으로 5개 원소를 만들어라.\n",
        "#vector는 일차원의 숫자열이다. 이러한 1*5의 숫자열. vector도 행렬이다. 2*3 이런 것 뿐만 아니라."
      ],
      "execution_count": 114,
      "outputs": [
        {
          "output_type": "execute_result",
          "data": {
            "text/plain": [
              "array([ 0. ,  2.5,  5. ,  7.5, 10. ])"
            ]
          },
          "metadata": {
            "tags": []
          },
          "execution_count": 114
        }
      ]
    },
    {
      "cell_type": "code",
      "metadata": {
        "colab": {
          "base_uri": "https://localhost:8080/"
        },
        "id": "osXhnfvqWMUr",
        "outputId": "61381dda-d61e-40e6-faf2-83353523e61f"
      },
      "source": [
        "x = np.array([[1, 2, 3], [4, 5, 6]]); x  \n",
        "#위의 empty, zeros에서 크기를 지정했던 것과 달리 원소 자체를 입력. 2*3 행렬.\n",
        "# 3*2 행렬은 [[1, 2], [3, 4], [5, 6]]"
      ],
      "execution_count": 118,
      "outputs": [
        {
          "output_type": "execute_result",
          "data": {
            "text/plain": [
              "array([[1, 2, 3],\n",
              "       [4, 5, 6]])"
            ]
          },
          "metadata": {
            "tags": []
          },
          "execution_count": 118
        }
      ]
    },
    {
      "cell_type": "code",
      "metadata": {
        "colab": {
          "base_uri": "https://localhost:8080/"
        },
        "id": "c-feU16nXXVE",
        "outputId": "0b421b89-414e-4147-c0a7-6cc092583743"
      },
      "source": [
        "x.astype(np.float64)"
      ],
      "execution_count": 120,
      "outputs": [
        {
          "output_type": "execute_result",
          "data": {
            "text/plain": [
              "array([[1., 2., 3.],\n",
              "       [4., 5., 6.]])"
            ]
          },
          "metadata": {
            "tags": []
          },
          "execution_count": 120
        }
      ]
    },
    {
      "cell_type": "code",
      "metadata": {
        "colab": {
          "base_uri": "https://localhost:8080/"
        },
        "id": "VxRQ5BJ_Xyhx",
        "outputId": "796591a4-49ba-4fb1-975b-86d4de7283fc"
      },
      "source": [
        "np.zeros_like(x)   #x와 같은 크기의 행렬. 원소로 zero를 넣는다"
      ],
      "execution_count": 121,
      "outputs": [
        {
          "output_type": "execute_result",
          "data": {
            "text/plain": [
              "array([[0, 0, 0],\n",
              "       [0, 0, 0]])"
            ]
          },
          "metadata": {
            "tags": []
          },
          "execution_count": 121
        }
      ]
    },
    {
      "cell_type": "code",
      "metadata": {
        "colab": {
          "base_uri": "https://localhost:8080/",
          "height": 513
        },
        "id": "8dWdPXutYRhP",
        "outputId": "ccc39d7e-13ef-4d7c-e34f-a712655f9aa0"
      },
      "source": [
        "data = np.random.normal(0, 1, 100000)  #평균 0, 표준편차 1인 숫자 50개 랜덤 생성.(일차원 vector로)\n",
        "plt.hist(data, bins = 100) #bins: 막대기 개수\n",
        "plt.show()\n",
        "data2 = np.random.normal(5, 2, 100)   \n",
        "plt.hist(data2, bins = 10)\n",
        "plt.show()\n",
        "#숫자의 수, bins의 수를 조절하여 훨씬 매끄러운 그래프를 만들 수 있다."
      ],
      "execution_count": 133,
      "outputs": [
        {
          "output_type": "display_data",
          "data": {
            "image/png": "[encoded data removed]",
            "text/plain": [
              "<Figure size 432x288 with 1 Axes>"
            ]
          },
          "metadata": {
            "tags": [],
            "needs_background": "light"
          }
        },
        {
          "output_type": "display_data",
          "data": {
            "image/png": "[encoded data removed]",
            "text/plain": [
              "<Figure size 432x288 with 1 Axes>"
            ]
          },
          "metadata": {
            "tags": [],
            "needs_background": "light"
          }
        }
      ]
    },
    {
      "cell_type": "code",
      "metadata": {
        "colab": {
          "base_uri": "https://localhost:8080/"
        },
        "id": "fFULz9lZYedr",
        "outputId": "e5ec747e-136a-4c89-de08-d7efd319cd2b"
      },
      "source": [
        "x = np.ones([2, 3, 4]); x    #3차원 행렬. [2, 3, 4]에서, 왼쪽일 수록 바깥쪽."
      ],
      "execution_count": 134,
      "outputs": [
        {
          "output_type": "execute_result",
          "data": {
            "text/plain": [
              "array([[[1., 1., 1., 1.],\n",
              "        [1., 1., 1., 1.],\n",
              "        [1., 1., 1., 1.]],\n",
              "\n",
              "       [[1., 1., 1., 1.],\n",
              "        [1., 1., 1., 1.],\n",
              "        [1., 1., 1., 1.]]])"
            ]
          },
          "metadata": {
            "tags": []
          },
          "execution_count": 134
        }
      ]
    },
    {
      "cell_type": "code",
      "metadata": {
        "colab": {
          "base_uri": "https://localhost:8080/"
        },
        "id": "3YIBM4EWa2qE",
        "outputId": "ab9e5640-1f12-4473-912f-63aee6a28b6f"
      },
      "source": [
        "y = x.reshape([-1, 3, 2]); y\n",
        "#행렬의 모양을 재배치(원소의 수는 동일). -1은 전체 크기에 맞게 알아서 조절."
      ],
      "execution_count": 135,
      "outputs": [
        {
          "output_type": "execute_result",
          "data": {
            "text/plain": [
              "array([[[1., 1.],\n",
              "        [1., 1.],\n",
              "        [1., 1.]],\n",
              "\n",
              "       [[1., 1.],\n",
              "        [1., 1.],\n",
              "        [1., 1.]],\n",
              "\n",
              "       [[1., 1.],\n",
              "        [1., 1.],\n",
              "        [1., 1.]],\n",
              "\n",
              "       [[1., 1.],\n",
              "        [1., 1.],\n",
              "        [1., 1.]]])"
            ]
          },
          "metadata": {
            "tags": []
          },
          "execution_count": 135
        }
      ]
    },
    {
      "cell_type": "code",
      "metadata": {
        "colab": {
          "base_uri": "https://localhost:8080/"
        },
        "id": "OHQnKL5GbVHa",
        "outputId": "5fb52672-4fbd-4258-9b9f-914ccea4fd75"
      },
      "source": [
        "arr = np.random.random([4, 2, 3]); arr  #0에서 1사이의 랜덤한 숫자"
      ],
      "execution_count": 142,
      "outputs": [
        {
          "output_type": "execute_result",
          "data": {
            "text/plain": [
              "array([[[0.33643797, 0.03468685, 0.91023883],\n",
              "        [0.65380686, 0.34348105, 0.67045621]],\n",
              "\n",
              "       [[0.67284267, 0.72184512, 0.55826123],\n",
              "        [0.06565387, 0.80378418, 0.32998837]],\n",
              "\n",
              "       [[0.47271158, 0.80407796, 0.37829074],\n",
              "        [0.11478068, 0.17928578, 0.41333305]],\n",
              "\n",
              "       [[0.84324933, 0.26634988, 0.47102827],\n",
              "        [0.49727044, 0.6234822 , 0.17380319]]])"
            ]
          },
          "metadata": {
            "tags": []
          },
          "execution_count": 142
        }
      ]
    },
    {
      "cell_type": "code",
      "metadata": {
        "colab": {
          "base_uri": "https://localhost:8080/"
        },
        "id": "ORvSropFcfl6",
        "outputId": "6baf028e-9369-4a88-969b-0f0cbc581455"
      },
      "source": [
        "print(type(arr))   #n dimension array(3차원)\n",
        "print(len(arr))     #이게 몇 차원이든, list의 관점에서는 가장 바깥쪽의 괄호만 생각\n",
        "print(arr.shape)\n",
        "print(arr.ndim)       #몇차원인가?\n",
        "print(arr.size)       #size = 원소의 수 = 4*2*3\n",
        "print(arr.dtype)"
      ],
      "execution_count": 147,
      "outputs": [
        {
          "output_type": "stream",
          "text": [
            "<class 'numpy.ndarray'>\n",
            "4\n",
            "(4, 2, 3)\n",
            "3\n",
            "24\n",
            "float64\n"
          ],
          "name": "stdout"
        }
      ]
    },
    {
      "cell_type": "code",
      "metadata": {
        "colab": {
          "base_uri": "https://localhost:8080/"
        },
        "id": "em619lNrdJrL",
        "outputId": "8df1171a-24d6-4d8c-abdb-04e476c40003"
      },
      "source": [
        "a = np.arange(1, 5); b = np.arange(9, 5, -1)\n",
        "a"
      ],
      "execution_count": 162,
      "outputs": [
        {
          "output_type": "execute_result",
          "data": {
            "text/plain": [
              "array([1, 2, 3, 4])"
            ]
          },
          "metadata": {
            "tags": []
          },
          "execution_count": 162
        }
      ]
    },
    {
      "cell_type": "code",
      "metadata": {
        "colab": {
          "base_uri": "https://localhost:8080/"
        },
        "id": "lOKjwdLseCI2",
        "outputId": "049c5b23-bb5b-43c9-b769-2ffa853f348b"
      },
      "source": [
        "print(a + b)\n",
        "print(a-b)\n",
        "print(a*b)        #원래 행렬의 연산과 달리. (1*4) * (1*4)의 연산이 가능하다. array의 특징징"
      ],
      "execution_count": 156,
      "outputs": [
        {
          "output_type": "stream",
          "text": [
            "[10 10 10 10]\n",
            "[-8 -6 -4 -2]\n",
            "[ 9 16 21 24]\n"
          ],
          "name": "stdout"
        }
      ]
    },
    {
      "cell_type": "code",
      "metadata": {
        "colab": {
          "base_uri": "https://localhost:8080/"
        },
        "id": "LvCNbn73eKYV",
        "outputId": "3b51bee1-c212-474b-972e-447859972f21"
      },
      "source": [
        "a = np.matrix(a)\n",
        "b = np.matrix(b) #이렇게 numpy.matrix()를 써야 정석적인 행렬의 연산이 가능하다.\n",
        "a     #기존 array와 달리, 2차원이다. 1*4이긴 하나, [[]]의 이중 list다. "
      ],
      "execution_count": 160,
      "outputs": [
        {
          "output_type": "execute_result",
          "data": {
            "text/plain": [
              "matrix([[1, 2, 3, 4]])"
            ]
          },
          "metadata": {
            "tags": []
          },
          "execution_count": 160
        }
      ]
    },
    {
      "cell_type": "code",
      "metadata": {
        "colab": {
          "base_uri": "https://localhost:8080/"
        },
        "id": "TxBmvy3wedud",
        "outputId": "9938106e-a6cb-48cd-87f1-90423f965b2e"
      },
      "source": [
        "b.T   #1*4행렬을 4*1행렬로 변환"
      ],
      "execution_count": 161,
      "outputs": [
        {
          "output_type": "execute_result",
          "data": {
            "text/plain": [
              "matrix([[9],\n",
              "        [8],\n",
              "        [7],\n",
              "        [6]])"
            ]
          },
          "metadata": {
            "tags": []
          },
          "execution_count": 161
        }
      ]
    },
    {
      "cell_type": "code",
      "metadata": {
        "colab": {
          "base_uri": "https://localhost:8080/"
        },
        "id": "uIlKYe0Uf3Zk",
        "outputId": "06b71ccd-bcac-457f-c0fb-3004c73a9307"
      },
      "source": [
        "a*b"
      ],
      "execution_count": 163,
      "outputs": [
        {
          "output_type": "execute_result",
          "data": {
            "text/plain": [
              "array([ 9, 16, 21, 24])"
            ]
          },
          "metadata": {
            "tags": []
          },
          "execution_count": 163
        }
      ]
    },
    {
      "cell_type": "code",
      "metadata": {
        "colab": {
          "base_uri": "https://localhost:8080/"
        },
        "id": "dclHFbcIgJLS",
        "outputId": "8c3d92c2-9d82-466f-ad02-dd6baa93c361"
      },
      "source": [
        "a = np.arange(1, 10).reshape(3, 3)\n",
        "b = np.arange(9, 0, -1).reshape(3, 3)\n",
        "print(a); print(b)"
      ],
      "execution_count": 173,
      "outputs": [
        {
          "output_type": "stream",
          "text": [
            "[[1 2 3]\n",
            " [4 5 6]\n",
            " [7 8 9]]\n",
            "[[9 8 7]\n",
            " [6 5 4]\n",
            " [3 2 1]]\n"
          ],
          "name": "stdout"
        }
      ]
    },
    {
      "cell_type": "code",
      "metadata": {
        "colab": {
          "base_uri": "https://localhost:8080/"
        },
        "id": "pNFPLecOgoZW",
        "outputId": "c950aa4a-c107-4a91-8667-3d38bc477d7f"
      },
      "source": [
        "a == b  #배치가 같은 두 array에 대해 원소가 같은지 다른지 비교 가능능"
      ],
      "execution_count": 174,
      "outputs": [
        {
          "output_type": "execute_result",
          "data": {
            "text/plain": [
              "array([[False, False, False],\n",
              "       [False,  True, False],\n",
              "       [False, False, False]])"
            ]
          },
          "metadata": {
            "tags": []
          },
          "execution_count": 174
        }
      ]
    },
    {
      "cell_type": "code",
      "metadata": {
        "colab": {
          "base_uri": "https://localhost:8080/"
        },
        "id": "ORiM2SDTg5_a",
        "outputId": "a01a2c71-7a0e-4e9e-df08-adc03cfc1346"
      },
      "source": [
        " a > b"
      ],
      "execution_count": 175,
      "outputs": [
        {
          "output_type": "execute_result",
          "data": {
            "text/plain": [
              "array([[False, False, False],\n",
              "       [False, False,  True],\n",
              "       [ True,  True,  True]])"
            ]
          },
          "metadata": {
            "tags": []
          },
          "execution_count": 175
        }
      ]
    },
    {
      "cell_type": "code",
      "metadata": {
        "colab": {
          "base_uri": "https://localhost:8080/"
        },
        "id": "QTvju7D8hN4L",
        "outputId": "d7d57169-8614-4b87-b1e6-036e1876b253"
      },
      "source": [
        "a + 100    #이렇게 각 원소에 어떤 수를 더하는 것도 가능하다."
      ],
      "execution_count": 176,
      "outputs": [
        {
          "output_type": "execute_result",
          "data": {
            "text/plain": [
              "array([[101, 102, 103],\n",
              "       [104, 105, 106],\n",
              "       [107, 108, 109]])"
            ]
          },
          "metadata": {
            "tags": []
          },
          "execution_count": 176
        }
      ]
    },
    {
      "cell_type": "code",
      "metadata": {
        "colab": {
          "base_uri": "https://localhost:8080/"
        },
        "id": "qKx-2N0mhTFP",
        "outputId": "95193390-03c1-48c3-988c-9b03dd498f1a"
      },
      "source": [
        "a = np.arange(1, 10)\n",
        "a.sum(), np.sum(a)    #기본 sum method, numpy의 sum은 문법이 조금 다르고, 같은 기능"
      ],
      "execution_count": 183,
      "outputs": [
        {
          "output_type": "execute_result",
          "data": {
            "text/plain": [
              "(45, 45)"
            ]
          },
          "metadata": {
            "tags": []
          },
          "execution_count": 183
        }
      ]
    },
    {
      "cell_type": "code",
      "metadata": {
        "colab": {
          "base_uri": "https://localhost:8080/"
        },
        "id": "o01E8J2Dhbed",
        "outputId": "9701e089-85d3-41ee-abd6-8ce2ab217e35"
      },
      "source": [
        "a = a.reshape(3, 3); a"
      ],
      "execution_count": 189,
      "outputs": [
        {
          "output_type": "execute_result",
          "data": {
            "text/plain": [
              "array([[1, 2, 3],\n",
              "       [4, 5, 6],\n",
              "       [7, 8, 9]])"
            ]
          },
          "metadata": {
            "tags": []
          },
          "execution_count": 189
        }
      ]
    },
    {
      "cell_type": "code",
      "metadata": {
        "colab": {
          "base_uri": "https://localhost:8080/"
        },
        "id": "tkb6HfsShq-9",
        "outputId": "5044b868-87ff-42a0-db39-a8b87db621c3"
      },
      "source": [
        "x = a.sum(axis = 0); y = a.sum(axis = 1)\n",
        "print(x); print(y)    #axis = 0이면 아래로 더하고, axis = 1이면 옆으로 더한다"
      ],
      "execution_count": 190,
      "outputs": [
        {
          "output_type": "stream",
          "text": [
            "[12 15 18]\n",
            "[ 6 15 24]\n"
          ],
          "name": "stdout"
        }
      ]
    },
    {
      "cell_type": "code",
      "metadata": {
        "colab": {
          "base_uri": "https://localhost:8080/"
        },
        "id": "jSd1zC-Qibp6",
        "outputId": "db05454b-5744-4d90-a76a-6544c53c117d"
      },
      "source": [
        "np.sum(a, axis = 0)       #다른 문법 같은 기능  #다른 문법 같은 기능"
      ],
      "execution_count": 191,
      "outputs": [
        {
          "output_type": "execute_result",
          "data": {
            "text/plain": [
              "array([12, 15, 18])"
            ]
          },
          "metadata": {
            "tags": []
          },
          "execution_count": 191
        }
      ]
    },
    {
      "cell_type": "code",
      "metadata": {
        "id": "lBThOx3-iq5S"
      },
      "source": [
        " "
      ],
      "execution_count": null,
      "outputs": []
    }
  ]
}