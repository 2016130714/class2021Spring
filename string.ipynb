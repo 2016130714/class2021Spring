{
  "nbformat": 4,
  "nbformat_minor": 0,
  "metadata": {
    "colab": {
      "name": "Untitled5.ipynb",
      "provenance": [],
      "authorship_tag": "ABX9TyNtA8ZuSd9vhu4XEO0h4F0T",
      "include_colab_link": true
    },
    "kernelspec": {
      "name": "python3",
      "display_name": "Python 3"
    }
  },
  "cells": [
    {
      "cell_type": "markdown",
      "metadata": {
        "id": "view-in-github",
        "colab_type": "text"
      },
      "source": [
        "<a href=\"https://colab.research.google.com/github/2016130714/class2021Spring/blob/main/string.ipynb\" target=\"_parent\"><img src=\"https://colab.research.google.com/assets/colab-badge.svg\" alt=\"Open In Colab\"/></a>"
      ]
    },
    {
      "cell_type": "code",
      "metadata": {
        "colab": {
          "base_uri": "https://localhost:8080/"
        },
        "id": "HtlXqbQcYFBB",
        "outputId": "42538c8f-e1b2-46dc-e7a0-62ec77bea0e2"
      },
      "source": [
        "s = 'abcdef'; a = [1, 2, 3]\r\n",
        "print(s[0], s[5], s[-1], s[-6], a[-1], a[-3])\r\n",
        "print(s[1:3], s[1:], s[:3], s[:-1], s[:], a[:-1])"
      ],
      "execution_count": 7,
      "outputs": [
        {
          "output_type": "stream",
          "text": [
            "a f f a 3 1\n",
            "bc bcdef abc abcde abcdef [1, 2]\n"
          ],
          "name": "stdout"
        }
      ]
    },
    {
      "cell_type": "code",
      "metadata": {
        "colab": {
          "base_uri": "https://localhost:8080/"
        },
        "id": "MTB2RxkhYTKr",
        "outputId": "45c16727-3ccd-416a-94bf-a94201239ba9"
      },
      "source": [
        "print(len(a), s.upper(), s.lower())"
      ],
      "execution_count": 10,
      "outputs": [
        {
          "output_type": "stream",
          "text": [
            "3 ABCDEF abcdef\n"
          ],
          "name": "stdout"
        }
      ]
    },
    {
      "cell_type": "code",
      "metadata": {
        "colab": {
          "base_uri": "https://localhost:8080/",
          "height": 34
        },
        "id": "QXpg8yviahzG",
        "outputId": "fb99bdbf-2afb-4ecd-f3a8-165f69a69dcc"
      },
      "source": [
        "s[1] + s[3] + s[4:] * 10"
      ],
      "execution_count": 9,
      "outputs": [
        {
          "output_type": "execute_result",
          "data": {
            "application/vnd.google.colaboratory.intrinsic+json": {
              "type": "string"
            },
            "text/plain": [
              "'bdefefefefefefefefefef'"
            ]
          },
          "metadata": {
            "tags": []
          },
          "execution_count": 9
        }
      ]
    },
    {
      "cell_type": "code",
      "metadata": {
        "colab": {
          "base_uri": "https://localhost:8080/",
          "height": 34
        },
        "id": "5QuSx_v9amiT",
        "outputId": "da35d2c6-256c-4b6f-90fa-ae0a04329807"
      },
      "source": [
        "s = ' this is a house built this year.\\nyes\\n'\r\n",
        "s"
      ],
      "execution_count": 23,
      "outputs": [
        {
          "output_type": "execute_result",
          "data": {
            "application/vnd.google.colaboratory.intrinsic+json": {
              "type": "string"
            },
            "text/plain": [
              "' this is a house built this year.\\nyes\\n'"
            ]
          },
          "metadata": {
            "tags": []
          },
          "execution_count": 23
        }
      ]
    },
    {
      "cell_type": "code",
      "metadata": {
        "colab": {
          "base_uri": "https://localhost:8080/"
        },
        "id": "aZlCjb_0bOMb",
        "outputId": "07a620ed-10fa-4f68-d9c1-3e9c99375f78"
      },
      "source": [
        "print(s)"
      ],
      "execution_count": 24,
      "outputs": [
        {
          "output_type": "stream",
          "text": [
            " this is a house built this year.\n",
            "yes\n",
            "\n"
          ],
          "name": "stdout"
        }
      ]
    },
    {
      "cell_type": "code",
      "metadata": {
        "colab": {
          "base_uri": "https://localhost:8080/"
        },
        "id": "maGXNWGWbZRn",
        "outputId": "0f171062-f449-48a3-f194-9eaf527261a5"
      },
      "source": [
        "result1 = s.find('house')\r\n",
        "result2 = s.find('that')\r\n",
        "result3 = s.rindex('this')\r\n",
        "print(result1, result2, result3)"
      ],
      "execution_count": 25,
      "outputs": [
        {
          "output_type": "stream",
          "text": [
            "11 -1 23\n"
          ],
          "name": "stdout"
        }
      ]
    },
    {
      "cell_type": "code",
      "metadata": {
        "colab": {
          "base_uri": "https://localhost:8080/",
          "height": 34
        },
        "id": "htRE0PE5b43f",
        "outputId": "29b7da72-e6cc-438e-a08b-6095e18bf5e1"
      },
      "source": [
        "s = s.strip(); s"
      ],
      "execution_count": 27,
      "outputs": [
        {
          "output_type": "execute_result",
          "data": {
            "application/vnd.google.colaboratory.intrinsic+json": {
              "type": "string"
            },
            "text/plain": [
              "'this is a house built this year.\\nyes'"
            ]
          },
          "metadata": {
            "tags": []
          },
          "execution_count": 27
        }
      ]
    },
    {
      "cell_type": "code",
      "metadata": {
        "colab": {
          "base_uri": "https://localhost:8080/"
        },
        "id": "PFj7dzydcVkY",
        "outputId": "7b145fb1-15ed-4f30-defc-5e3f1bb5b343"
      },
      "source": [
        "tokens = s.split(' ')\r\n",
        "s1 = ' '.join(tokens)\r\n",
        "s2 = s1.replace('this', 'that')\r\n",
        "print(tokens, s1, '\\n' + s2)"
      ],
      "execution_count": 37,
      "outputs": [
        {
          "output_type": "stream",
          "text": [
            "['this', 'is', 'a', 'house', 'built', 'this', 'year.\\nyes'] this is a house built this year.\n",
            "yes \n",
            "that is a house built that year.\n",
            "yes\n"
          ],
          "name": "stdout"
        }
      ]
    },
    {
      "cell_type": "code",
      "metadata": {
        "colab": {
          "base_uri": "https://localhost:8080/"
        },
        "id": "3RzgHLlocnGk",
        "outputId": "f0fa737f-1911-45ed-e613-096d0490139a"
      },
      "source": [
        ""
      ],
      "execution_count": 33,
      "outputs": [
        {
          "output_type": "stream",
          "text": [
            "app1\n"
          ],
          "name": "stdout"
        }
      ]
    },
    {
      "cell_type": "code",
      "metadata": {
        "id": "iUX_Jywddb_Q"
      },
      "source": [
        ""
      ],
      "execution_count": null,
      "outputs": []
    }
  ]
}