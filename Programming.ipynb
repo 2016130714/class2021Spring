{
  "nbformat": 4,
  "nbformat_minor": 0,
  "metadata": {
    "colab": {
      "name": "Untitled1.ipynb",
      "provenance": [],
      "authorship_tag": "ABX9TyOD6cMHDkF9XA45sgXBssrP",
      "include_colab_link": true
    },
    "kernelspec": {
      "name": "python3",
      "display_name": "Python 3"
    }
  },
  "cells": [
    {
      "cell_type": "markdown",
      "metadata": {
        "id": "view-in-github",
        "colab_type": "text"
      },
      "source": [
        "<a href=\"https://colab.research.google.com/github/2016130714/class2021Spring/blob/main/Programming.ipynb\" target=\"_parent\"><img src=\"https://colab.research.google.com/assets/colab-badge.svg\" alt=\"Open In Colab\"/></a>"
      ]
    },
    {
      "cell_type": "code",
      "metadata": {
        "id": "bqPficTfpBMs"
      },
      "source": [
        ""
      ],
      "execution_count": null,
      "outputs": []
    },
    {
      "cell_type": "markdown",
      "metadata": {
        "id": "Sssyud9dpFzf"
      },
      "source": [
        "Programming language: 언어이기 때문에 사람의 언어와 비슷하다\r\n",
        "인간의 언어: \"단어+문법\"\r\n",
        "프로그래밍 언어: \"변수 = 내용\"\r\n",
        "프로그래밍 언어의 =: 같다는 의미가 아니라 assign의 의미. 내용을 변수에 assign\r\n",
        "\r\n",
        "*문법: 제어문\r\n",
        "1. 반복문: for 2. 조건문: if\r\n",
        "a = 1\r\n",
        "if a == 1\r\n",
        "  print(3)\r\n",
        "  \r\n",
        "*함수: 입출력 관계를 갖는다.\r\n",
        "입력(input)  ---(function)---> 출력(output)\r\n",
        "*함수의 예: y = f(x)     y = 3x+5 (수학의 일차함수 등)\r\n",
        "수학이 아닌 함수: 인간의 몸, 감각기관(눈, 귀…..), 자동차, AI\r\n",
        "가장 쉬운 형태의 일차함수부터, AI까지, 세상의 매우 많은 것들이 함수를 기반으로 한다.\r\n",
        "프로그래밍 언어의 함수 형태:  y = ax + b의 형태가 아닌\r\n",
        " add(a, b)의 형태. 코드가 늘어날 수록 깔끔해진다.\r\n"
      ]
    }
  ]
}