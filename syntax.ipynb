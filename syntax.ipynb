{
  "nbformat": 4,
  "nbformat_minor": 0,
  "metadata": {
    "colab": {
      "name": "Untitled6.ipynb",
      "provenance": [],
      "authorship_tag": "ABX9TyMxfkphLoIHsWsCDUF9+psa",
      "include_colab_link": true
    },
    "kernelspec": {
      "name": "python3",
      "display_name": "Python 3"
    }
  },
  "cells": [
    {
      "cell_type": "markdown",
      "metadata": {
        "id": "view-in-github",
        "colab_type": "text"
      },
      "source": [
        "<a href=\"https://colab.research.google.com/github/2016130714/class2021Spring/blob/main/syntax.ipynb\" target=\"_parent\"><img src=\"https://colab.research.google.com/assets/colab-badge.svg\" alt=\"Open In Colab\"/></a>"
      ]
    },
    {
      "cell_type": "code",
      "metadata": {
        "colab": {
          "base_uri": "https://localhost:8080/"
        },
        "id": "CXZPv44Peb4i",
        "outputId": "83f1583a-db11-45a2-e4bc-efb268dd1666"
      },
      "source": [
        "a = ['a', 'b', 'c', 'd', 'e']\r\n",
        "for i in range(5):\r\n",
        "  print(a[i])\r\n",
        "for i in range(len(a)):              #range(len(a)) = index다!\r\n",
        "  print(a[i])\r\n",
        "for i in range(-3, 4):\r\n",
        "  print(a[i])"
      ],
      "execution_count": 13,
      "outputs": [
        {
          "output_type": "stream",
          "text": [
            "a\n",
            "b\n",
            "c\n",
            "d\n",
            "e\n",
            "a\n",
            "b\n",
            "c\n",
            "d\n",
            "e\n",
            "c\n",
            "d\n",
            "e\n",
            "a\n",
            "b\n",
            "c\n",
            "d\n"
          ],
          "name": "stdout"
        }
      ]
    },
    {
      "cell_type": "code",
      "metadata": {
        "colab": {
          "base_uri": "https://localhost:8080/",
          "height": 256
        },
        "id": "swIdyqZTetuF",
        "outputId": "eba7b676-839b-4204-b8f8-4b42455317b2"
      },
      "source": [
        "for i in range(0, 6):\r\n",
        "  print(a[i])"
      ],
      "execution_count": 41,
      "outputs": [
        {
          "output_type": "stream",
          "text": [
            "1\n",
            "2\n",
            "3\n",
            "4\n"
          ],
          "name": "stdout"
        },
        {
          "output_type": "error",
          "ename": "IndexError",
          "evalue": "ignored",
          "traceback": [
            "\u001b[0;31m---------------------------------------------------------------------------\u001b[0m",
            "\u001b[0;31mIndexError\u001b[0m                                Traceback (most recent call last)",
            "\u001b[0;32m<ipython-input-41-1d5d686767c0>\u001b[0m in \u001b[0;36m<module>\u001b[0;34m()\u001b[0m\n\u001b[1;32m      1\u001b[0m \u001b[0;32mfor\u001b[0m \u001b[0mi\u001b[0m \u001b[0;32min\u001b[0m \u001b[0mrange\u001b[0m\u001b[0;34m(\u001b[0m\u001b[0;36m0\u001b[0m\u001b[0;34m,\u001b[0m \u001b[0;36m6\u001b[0m\u001b[0;34m)\u001b[0m\u001b[0;34m:\u001b[0m\u001b[0;34m\u001b[0m\u001b[0;34m\u001b[0m\u001b[0m\n\u001b[0;32m----> 2\u001b[0;31m   \u001b[0mprint\u001b[0m\u001b[0;34m(\u001b[0m\u001b[0ma\u001b[0m\u001b[0;34m[\u001b[0m\u001b[0mi\u001b[0m\u001b[0;34m]\u001b[0m\u001b[0;34m)\u001b[0m\u001b[0;34m\u001b[0m\u001b[0;34m\u001b[0m\u001b[0m\n\u001b[0m",
            "\u001b[0;31mIndexError\u001b[0m: list index out of range"
          ]
        }
      ]
    },
    {
      "cell_type": "code",
      "metadata": {
        "colab": {
          "base_uri": "https://localhost:8080/"
        },
        "id": "5nJ1fsdCfCgH",
        "outputId": "80976ed8-962b-463b-b5fc-9ef75ab7d9e2"
      },
      "source": [
        "print(list(range(0, 10, 4)), list(range(-9, -1, 3)))"
      ],
      "execution_count": 17,
      "outputs": [
        {
          "output_type": "stream",
          "text": [
            "[0, 4, 8] [-9, -6, -3]\n"
          ],
          "name": "stdout"
        }
      ]
    },
    {
      "cell_type": "code",
      "metadata": {
        "id": "q7jA3XcpfbHI",
        "outputId": "b7c3f167-d374-4228-a915-a8a4b719f2bf",
        "colab": {
          "base_uri": "https://localhost:8080/"
        }
      },
      "source": [
        "a = 3\r\n",
        "if a == 0:\r\n",
        "  print(\"정답\")\r\n",
        "else:\r\n",
        "  print(\"오답\")"
      ],
      "execution_count": 18,
      "outputs": [
        {
          "output_type": "stream",
          "text": [
            "오답\n"
          ],
          "name": "stdout"
        }
      ]
    },
    {
      "cell_type": "code",
      "metadata": {
        "id": "OhEpXx6kqcWs",
        "outputId": "3b1a3dfe-1f6c-46e3-a0b6-13c91efeaba1",
        "colab": {
          "base_uri": "https://localhost:8080/"
        }
      },
      "source": [
        "for i in range(0, 3):\r\n",
        "  for j in range(15, 17):\r\n",
        "    print(i/j)"
      ],
      "execution_count": 19,
      "outputs": [
        {
          "output_type": "stream",
          "text": [
            "0.0\n",
            "0.0\n",
            "0.06666666666666667\n",
            "0.0625\n",
            "0.13333333333333333\n",
            "0.125\n"
          ],
          "name": "stdout"
        }
      ]
    },
    {
      "cell_type": "code",
      "metadata": {
        "id": "mx0PBcFSrH3t",
        "outputId": "c580f897-a6b7-416e-8201-09971b113d68",
        "colab": {
          "base_uri": "https://localhost:8080/"
        }
      },
      "source": [
        "for i in range(0, 3):\r\n",
        "  for j in range(8, 10):     #loop가 총 몇 번 도는지도 생각해보자   \r\n",
        "          if i*j % 2 == 0:\r\n",
        "                print(i/j)"
      ],
      "execution_count": 27,
      "outputs": [
        {
          "output_type": "stream",
          "text": [
            "0.0\n",
            "0.0\n",
            "0.125\n",
            "0.25\n",
            "0.2222222222222222\n"
          ],
          "name": "stdout"
        }
      ]
    },
    {
      "cell_type": "code",
      "metadata": {
        "id": "X7kJiDXhr0iy",
        "outputId": "3e216787-8ce4-4fca-e3d0-a5144eae1580",
        "colab": {
          "base_uri": "https://localhost:8080/"
        }
      },
      "source": [
        "a = [1, 2, 3, 4];\r\n",
        "x = ['안녕하세요', 'hello', 'python', 'red']\r\n",
        "b = [i for i in a if i >= 2]\r\n",
        "c = [i*2 for i in x if len(i) >= 4]              #i = '안녕하세요' 2i는 error. i*2로 써야함\r\n",
        "b+c"
      ],
      "execution_count": 39,
      "outputs": [
        {
          "output_type": "execute_result",
          "data": {
            "text/plain": [
              "[2, 3, 4, '안녕하세요안녕하세요', 'hellohello', 'pythonpython']"
            ]
          },
          "metadata": {
            "tags": []
          },
          "execution_count": 39
        }
      ]
    }
  ]
}