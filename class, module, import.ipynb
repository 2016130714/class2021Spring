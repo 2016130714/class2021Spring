{
  "nbformat": 4,
  "nbformat_minor": 0,
  "metadata": {
    "colab": {
      "name": "Untitled10.ipynb",
      "provenance": [],
      "authorship_tag": "ABX9TyNEqQ9TWN0cI+HY4IomUUD4",
      "include_colab_link": true
    },
    "kernelspec": {
      "name": "python3",
      "display_name": "Python 3"
    },
    "language_info": {
      "name": "python"
    }
  },
  "cells": [
    {
      "cell_type": "markdown",
      "metadata": {
        "id": "view-in-github",
        "colab_type": "text"
      },
      "source": [
        "<a href=\"https://colab.research.google.com/github/2016130714/class2021Spring/blob/main/class%2C%20module%2C%20import.ipynb\" target=\"_parent\"><img src=\"https://colab.research.google.com/assets/colab-badge.svg\" alt=\"Open In Colab\"/></a>"
      ]
    },
    {
      "cell_type": "code",
      "metadata": {
        "id": "4yAwDfDZUCFt"
      },
      "source": [
        "#class: 함수와 변수를 같이 정의하는 것\n",
        "class cal:\n",
        "  def __init__(self):\n",
        "    self.result = 0      #이 두 줄은 class에 들어가는 기본 코드.(초기화 코드) 암기해야함.\n",
        "  def add(self, n):\n",
        "    self.result += n\n",
        "    return self.result"
      ],
      "execution_count": 28,
      "outputs": []
    },
    {
      "cell_type": "code",
      "metadata": {
        "colab": {
          "base_uri": "https://localhost:8080/"
        },
        "id": "JR02NoIldCP8",
        "outputId": "39673484-0e5b-4cf2-8b9b-338db866363f"
      },
      "source": [
        "A = cal()\n",
        "A.result"
      ],
      "execution_count": 29,
      "outputs": [
        {
          "output_type": "execute_result",
          "data": {
            "text/plain": [
              "0"
            ]
          },
          "metadata": {
            "tags": []
          },
          "execution_count": 29
        }
      ]
    },
    {
      "cell_type": "code",
      "metadata": {
        "colab": {
          "base_uri": "https://localhost:8080/"
        },
        "id": "Q_UsOG5rdeM8",
        "outputId": "8ad654bd-54ea-4acf-f236-4e88ca087712"
      },
      "source": [
        "A.add(4)"
      ],
      "execution_count": 30,
      "outputs": [
        {
          "output_type": "execute_result",
          "data": {
            "text/plain": [
              "4"
            ]
          },
          "metadata": {
            "tags": []
          },
          "execution_count": 30
        }
      ]
    },
    {
      "cell_type": "code",
      "metadata": {
        "colab": {
          "base_uri": "https://localhost:8080/"
        },
        "id": "pyFYL-QIdgTf",
        "outputId": "322b5b50-83ac-49f1-f7ac-8ae937b760ab"
      },
      "source": [
        "A.add(6)"
      ],
      "execution_count": 31,
      "outputs": [
        {
          "output_type": "execute_result",
          "data": {
            "text/plain": [
              "10"
            ]
          },
          "metadata": {
            "tags": []
          },
          "execution_count": 31
        }
      ]
    },
    {
      "cell_type": "code",
      "metadata": {
        "colab": {
          "base_uri": "https://localhost:8080/"
        },
        "id": "NkmSFdlBdh1S",
        "outputId": "543326c8-b262-44c6-e6dd-ea69a7342785"
      },
      "source": [
        "#모듈: 함수나 변수 또는 클래스를 모아놓은 파일\n",
        "#패키지: 모듈보다 상위. 여러 모듈 모아놓음.\n",
        "import numpy as np\n",
        "n = np.random.randn(100); n"
      ],
      "execution_count": 34,
      "outputs": [
        {
          "output_type": "execute_result",
          "data": {
            "text/plain": [
              "array([-0.16225335,  1.00908422,  0.45848125,  1.29649727,  0.49075587,\n",
              "       -0.67676787, -0.71745362,  0.44425384,  2.3259839 , -0.30982585,\n",
              "        0.8754798 , -0.97123475, -0.22964155, -1.55767553,  0.69537184,\n",
              "        0.79799812,  0.41883927,  0.95682596, -0.65552299,  0.80880092,\n",
              "       -0.04787237,  0.40824476,  0.30180705,  0.24757886, -1.05101967,\n",
              "        0.17797061, -0.45149935, -0.84149962, -2.12793721,  0.07787305,\n",
              "       -1.27142191,  0.79838591,  1.36151894, -0.92523906,  1.89761843,\n",
              "       -1.67240429,  0.7962174 , -0.17775854,  0.88660284, -0.56280091,\n",
              "       -0.52579436, -1.10591262,  0.59417423,  0.45146402,  0.76614434,\n",
              "       -1.64125504, -1.37321758, -0.31024356,  0.32906452, -0.38723129,\n",
              "        0.56969542, -0.99459244, -0.28042334,  0.72735277,  0.31492036,\n",
              "        1.00026366,  0.71239041,  1.24225888, -0.14961017,  0.59196615,\n",
              "       -3.14577399,  0.42612435, -0.02317014, -0.34295466,  1.13907137,\n",
              "       -0.36469978, -0.31486342,  0.43824698,  2.46884704,  0.64859338,\n",
              "        0.61583503,  1.23066809,  1.15941255, -1.72201999,  0.85732289,\n",
              "        0.94027998,  1.32052114, -1.41310244, -0.27374787,  0.66673264,\n",
              "        0.35421935, -1.07818975,  0.89205631, -0.07107093, -1.07312177,\n",
              "        0.0934988 , -0.94636342,  1.35678234, -0.76545376, -1.50153787,\n",
              "        1.615638  , -1.98414967,  0.90446811,  1.74942138,  1.88248744,\n",
              "       -0.85166525,  0.24968668, -0.55723223, -0.33688745, -1.81402243])"
            ]
          },
          "metadata": {
            "tags": []
          },
          "execution_count": 34
        }
      ]
    },
    {
      "cell_type": "code",
      "metadata": {
        "colab": {
          "base_uri": "https://localhost:8080/",
          "height": 355
        },
        "id": "FB9Tj9RZhlWf",
        "outputId": "5003c541-3984-4cc9-896e-86ddc7838e0e"
      },
      "source": [
        "import matplotlib.pyplot         #matplotlib: 패키지(라이브러리mport matplotlib.pyplot         #matplotlib: 패키지(라이브러리) pyplot: 모듈 hist: 함수\n",
        "from matplotlib import pyplot    #패키지, 모듈, 함수를 부르는 여러 방법\n",
        "from matplotlib.pyplot import hist\n",
        "from matplotlib import pyplot    #패키지, 모듈, 함수를 부르는 여러 방법\n",
        "from matplotlib.pyplot import hist\n",
        "hist(n)"
      ],
      "execution_count": 41,
      "outputs": [
        {
          "output_type": "execute_result",
          "data": {
            "text/plain": [
              "(array([ 1.,  1.,  7., 11., 13., 16., 24., 19.,  6.,  2.]),\n",
              " array([-3.14577399, -2.58431189, -2.02284978, -1.46138768, -0.89992558,\n",
              "        -0.33846348,  0.22299863,  0.78446073,  1.34592283,  1.90738493,\n",
              "         2.46884704]),\n",
              " <a list of 10 Patch objects>)"
            ]
          },
          "metadata": {
            "tags": []
          },
          "execution_count": 41
        },
        {
          "output_type": "display_data",
          "data": {
            "image/png": "[encoded data removed]",
            "text/plain": [
              "<Figure size 432x288 with 1 Axes>"
            ]
          },
          "metadata": {
            "tags": [],
            "needs_background": "light"
          }
        }
      ]
    },
    {
      "cell_type": "code",
      "metadata": {
        "id": "4zvkSTnuhpAJ"
      },
      "source": [
        ""
      ],
      "execution_count": null,
      "outputs": []
    }
  ]
}